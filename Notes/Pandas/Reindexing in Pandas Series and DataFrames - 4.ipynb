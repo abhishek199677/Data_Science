{
 "cells": [
  {
   "cell_type": "code",
   "execution_count": 1,
   "metadata": {},
   "outputs": [],
   "source": [
    "import numpy as np\n",
    "import pandas as pd"
   ]
  },
  {
   "cell_type": "code",
   "execution_count": 2,
   "metadata": {},
   "outputs": [
    {
     "data": {
      "text/plain": [
       "a    1\n",
       "b    2\n",
       "c    3\n",
       "d    4\n",
       "dtype: int64"
      ]
     },
     "execution_count": 2,
     "metadata": {},
     "output_type": "execute_result"
    }
   ],
   "source": [
    "s1 = pd.Series([1,2,3,4], index=['a','b','c','d'])\n",
    "s1"
   ]
  },
  {
   "cell_type": "code",
   "execution_count": 3,
   "metadata": {},
   "outputs": [
    {
     "data": {
      "text/plain": [
       "a    1.0\n",
       "b    2.0\n",
       "c    3.0\n",
       "d    4.0\n",
       "e    NaN\n",
       "f    NaN\n",
       "dtype: float64"
      ]
     },
     "execution_count": 3,
     "metadata": {},
     "output_type": "execute_result"
    }
   ],
   "source": [
    "s1 = s1.reindex(['a','b','c','d','e','f'])     # this is used to basically modify index\n",
    "s1"
   ]
  },
  {
   "cell_type": "code",
   "execution_count": 4,
   "metadata": {},
   "outputs": [
    {
     "data": {
      "text/plain": [
       "a      1.0\n",
       "b      2.0\n",
       "c      3.0\n",
       "d      4.0\n",
       "e      NaN\n",
       "f      NaN\n",
       "g    100.0\n",
       "dtype: float64"
      ]
     },
     "execution_count": 4,
     "metadata": {},
     "output_type": "execute_result"
    }
   ],
   "source": [
    "s1 = s1.reindex(['a','b','c','d','e','f','g'], fill_value=100)\n",
    "s1     # this happened because fill_value() will fill only those nan values which are created in the same code, not the previously defined nan values"
   ]
  },
  {
   "cell_type": "code",
   "execution_count": 5,
   "metadata": {},
   "outputs": [
    {
     "data": {
      "text/plain": [
       "0        Audi\n",
       "4    Mercedes\n",
       "8         BMW\n",
       "dtype: object"
      ]
     },
     "execution_count": 5,
     "metadata": {},
     "output_type": "execute_result"
    }
   ],
   "source": [
    "cars = pd.Series(['Audi','Mercedes','BMW'], index=[0,4,8])\n",
    "cars"
   ]
  },
  {
   "cell_type": "code",
   "execution_count": 6,
   "metadata": {},
   "outputs": [
    {
     "data": {
      "text/plain": [
       "0         Audi\n",
       "1         Audi\n",
       "2         Audi\n",
       "3         Audi\n",
       "4     Mercedes\n",
       "5     Mercedes\n",
       "6     Mercedes\n",
       "7     Mercedes\n",
       "8          BMW\n",
       "9          BMW\n",
       "10         BMW\n",
       "11         BMW\n",
       "dtype: object"
      ]
     },
     "execution_count": 6,
     "metadata": {},
     "output_type": "execute_result"
    }
   ],
   "source": [
    "new_index = range(12)\n",
    "cars = cars.reindex(new_index, method='ffill')  # this is forward fill method\n",
    "cars"
   ]
  },
  {
   "cell_type": "code",
   "execution_count": 7,
   "metadata": {},
   "outputs": [
    {
     "data": {
      "text/html": [
       "<div>\n",
       "<style scoped>\n",
       "    .dataframe tbody tr th:only-of-type {\n",
       "        vertical-align: middle;\n",
       "    }\n",
       "\n",
       "    .dataframe tbody tr th {\n",
       "        vertical-align: top;\n",
       "    }\n",
       "\n",
       "    .dataframe thead th {\n",
       "        text-align: right;\n",
       "    }\n",
       "</style>\n",
       "<table border=\"1\" class=\"dataframe\">\n",
       "  <thead>\n",
       "    <tr style=\"text-align: right;\">\n",
       "      <th></th>\n",
       "      <th>c1</th>\n",
       "      <th>c2</th>\n",
       "      <th>c3</th>\n",
       "      <th>c4</th>\n",
       "      <th>c5</th>\n",
       "    </tr>\n",
       "  </thead>\n",
       "  <tbody>\n",
       "    <tr>\n",
       "      <th>a</th>\n",
       "      <td>-0.113224</td>\n",
       "      <td>0.388753</td>\n",
       "      <td>0.566472</td>\n",
       "      <td>-0.515795</td>\n",
       "      <td>0.255421</td>\n",
       "    </tr>\n",
       "    <tr>\n",
       "      <th>b</th>\n",
       "      <td>0.783755</td>\n",
       "      <td>0.637304</td>\n",
       "      <td>-1.336313</td>\n",
       "      <td>-0.882078</td>\n",
       "      <td>0.616280</td>\n",
       "    </tr>\n",
       "    <tr>\n",
       "      <th>c</th>\n",
       "      <td>-0.189673</td>\n",
       "      <td>-0.082123</td>\n",
       "      <td>0.335821</td>\n",
       "      <td>0.586044</td>\n",
       "      <td>0.392313</td>\n",
       "    </tr>\n",
       "    <tr>\n",
       "      <th>d</th>\n",
       "      <td>-0.724489</td>\n",
       "      <td>0.464182</td>\n",
       "      <td>0.050825</td>\n",
       "      <td>-0.005375</td>\n",
       "      <td>-0.105408</td>\n",
       "    </tr>\n",
       "    <tr>\n",
       "      <th>e</th>\n",
       "      <td>-0.828897</td>\n",
       "      <td>0.081660</td>\n",
       "      <td>0.428146</td>\n",
       "      <td>0.910627</td>\n",
       "      <td>-0.682639</td>\n",
       "    </tr>\n",
       "  </tbody>\n",
       "</table>\n",
       "</div>"
      ],
      "text/plain": [
       "         c1        c2        c3        c4        c5\n",
       "a -0.113224  0.388753  0.566472 -0.515795  0.255421\n",
       "b  0.783755  0.637304 -1.336313 -0.882078  0.616280\n",
       "c -0.189673 -0.082123  0.335821  0.586044  0.392313\n",
       "d -0.724489  0.464182  0.050825 -0.005375 -0.105408\n",
       "e -0.828897  0.081660  0.428146  0.910627 -0.682639"
      ]
     },
     "execution_count": 7,
     "metadata": {},
     "output_type": "execute_result"
    }
   ],
   "source": [
    "df1 = pd.DataFrame(np.random.randn(25).reshape(5,5), index=['a','b','c','d','e'], columns=['c1','c2','c3','c4','c5'])\n",
    "df1"
   ]
  },
  {
   "cell_type": "code",
   "execution_count": 8,
   "metadata": {},
   "outputs": [
    {
     "data": {
      "text/html": [
       "<div>\n",
       "<style scoped>\n",
       "    .dataframe tbody tr th:only-of-type {\n",
       "        vertical-align: middle;\n",
       "    }\n",
       "\n",
       "    .dataframe tbody tr th {\n",
       "        vertical-align: top;\n",
       "    }\n",
       "\n",
       "    .dataframe thead th {\n",
       "        text-align: right;\n",
       "    }\n",
       "</style>\n",
       "<table border=\"1\" class=\"dataframe\">\n",
       "  <thead>\n",
       "    <tr style=\"text-align: right;\">\n",
       "      <th></th>\n",
       "      <th>c1</th>\n",
       "      <th>c2</th>\n",
       "      <th>c3</th>\n",
       "      <th>c4</th>\n",
       "      <th>c5</th>\n",
       "      <th>c6</th>\n",
       "    </tr>\n",
       "  </thead>\n",
       "  <tbody>\n",
       "    <tr>\n",
       "      <th>a</th>\n",
       "      <td>-0.113224</td>\n",
       "      <td>0.388753</td>\n",
       "      <td>0.566472</td>\n",
       "      <td>-0.515795</td>\n",
       "      <td>0.255421</td>\n",
       "      <td>NaN</td>\n",
       "    </tr>\n",
       "    <tr>\n",
       "      <th>b</th>\n",
       "      <td>0.783755</td>\n",
       "      <td>0.637304</td>\n",
       "      <td>-1.336313</td>\n",
       "      <td>-0.882078</td>\n",
       "      <td>0.616280</td>\n",
       "      <td>NaN</td>\n",
       "    </tr>\n",
       "    <tr>\n",
       "      <th>c</th>\n",
       "      <td>-0.189673</td>\n",
       "      <td>-0.082123</td>\n",
       "      <td>0.335821</td>\n",
       "      <td>0.586044</td>\n",
       "      <td>0.392313</td>\n",
       "      <td>NaN</td>\n",
       "    </tr>\n",
       "    <tr>\n",
       "      <th>d</th>\n",
       "      <td>-0.724489</td>\n",
       "      <td>0.464182</td>\n",
       "      <td>0.050825</td>\n",
       "      <td>-0.005375</td>\n",
       "      <td>-0.105408</td>\n",
       "      <td>NaN</td>\n",
       "    </tr>\n",
       "    <tr>\n",
       "      <th>e</th>\n",
       "      <td>-0.828897</td>\n",
       "      <td>0.081660</td>\n",
       "      <td>0.428146</td>\n",
       "      <td>0.910627</td>\n",
       "      <td>-0.682639</td>\n",
       "      <td>NaN</td>\n",
       "    </tr>\n",
       "    <tr>\n",
       "      <th>f</th>\n",
       "      <td>NaN</td>\n",
       "      <td>NaN</td>\n",
       "      <td>NaN</td>\n",
       "      <td>NaN</td>\n",
       "      <td>NaN</td>\n",
       "      <td>NaN</td>\n",
       "    </tr>\n",
       "  </tbody>\n",
       "</table>\n",
       "</div>"
      ],
      "text/plain": [
       "         c1        c2        c3        c4        c5  c6\n",
       "a -0.113224  0.388753  0.566472 -0.515795  0.255421 NaN\n",
       "b  0.783755  0.637304 -1.336313 -0.882078  0.616280 NaN\n",
       "c -0.189673 -0.082123  0.335821  0.586044  0.392313 NaN\n",
       "d -0.724489  0.464182  0.050825 -0.005375 -0.105408 NaN\n",
       "e -0.828897  0.081660  0.428146  0.910627 -0.682639 NaN\n",
       "f       NaN       NaN       NaN       NaN       NaN NaN"
      ]
     },
     "execution_count": 8,
     "metadata": {},
     "output_type": "execute_result"
    }
   ],
   "source": [
    "df1 = df1.reindex(index=['a','b','c','d','e','f'], columns=['c1','c2','c3','c4','c5','c6'])\n",
    "df1"
   ]
  }
 ],
 "metadata": {
  "kernelspec": {
   "display_name": "Python 3",
   "language": "python",
   "name": "python3"
  },
  "language_info": {
   "codemirror_mode": {
    "name": "ipython",
    "version": 3
   },
   "file_extension": ".py",
   "mimetype": "text/x-python",
   "name": "python",
   "nbconvert_exporter": "python",
   "pygments_lexer": "ipython3",
   "version": "3.7.6"
  }
 },
 "nbformat": 4,
 "nbformat_minor": 4
}
